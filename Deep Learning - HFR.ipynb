{
 "cells": [
  {
   "cell_type": "markdown",
   "id": "activated-burden",
   "metadata": {},
   "source": [
    "# This is a source code of Human Face Recognition\n",
    "In this deep learning, we developed a model real-time human face recognition with python.\n",
    "\n",
    "### Imports module"
   ]
  },
  {
   "cell_type": "code",
   "execution_count": 1,
   "id": "legislative-spectrum",
   "metadata": {},
   "outputs": [],
   "source": [
    "import cv2"
   ]
  },
  {
   "cell_type": "markdown",
   "id": "professional-belly",
   "metadata": {},
   "source": [
    "### Initialize the classifier"
   ]
  },
  {
   "cell_type": "code",
   "execution_count": 2,
   "id": "disturbed-myrtle",
   "metadata": {},
   "outputs": [],
   "source": [
    "facePath = cv2.CascadeClassifier(\"C:\\\\miniconda3\\\\sample_project_2\\\\env\\\\Library\\\\etc\\\\haarcascades\\\\haarcascade_frontalface_default.xml\")"
   ]
  },
  {
   "cell_type": "markdown",
   "id": "unavailable-replacement",
   "metadata": {},
   "source": [
    "### Apply the facePath on Webcam frame"
   ]
  },
  {
   "cell_type": "code",
   "execution_count": 3,
   "id": "processed-abuse",
   "metadata": {},
   "outputs": [],
   "source": [
    "video_capture = cv2.VideoCapture(0)\n",
    "\n",
    "while True:\n",
    "    # Capture frame-by-frame\n",
    "    ret, frames = video_capture.read()\n",
    "    \n",
    "    gray = cv2.cvtColor(frames, cv2.COLOR_BGR2GRAY)\n",
    "    \n",
    "    faces = facePath.detectMultiScale(\n",
    "        gray,\n",
    "        scaleFactor = 1.1,\n",
    "        minNeighbors = 5,\n",
    "        minSize = (30,30),\n",
    "        flags = cv2.CASCADE_SCALE_IMAGE\n",
    "    )\n",
    "    \n",
    "    # Draw a rectangle around the faces\n",
    "    for (x, y, w, h) in faces:\n",
    "        cv2.rectangle(frames, (x,y), (x+w, y+h), (0, 255, 0), 2)\n",
    "        \n",
    "    # Display the resulting frame\n",
    "    cv2.imshow('Video', frames)\n",
    " \n",
    "    if cv2.waitKey(1) & 0xFF == ord('q'):\n",
    "        break\n",
    "        \n",
    "# Release the capture frames\n",
    "video_capture.release()\n",
    "cv2.destroyAllWindows()"
   ]
  },
  {
   "cell_type": "code",
   "execution_count": null,
   "id": "aging-expression",
   "metadata": {},
   "outputs": [],
   "source": []
  },
  {
   "cell_type": "code",
   "execution_count": null,
   "id": "consistent-cargo",
   "metadata": {},
   "outputs": [],
   "source": []
  }
 ],
 "metadata": {
  "kernelspec": {
   "display_name": "Python 3",
   "language": "python",
   "name": "python3"
  },
  "language_info": {
   "codemirror_mode": {
    "name": "ipython",
    "version": 3
   },
   "file_extension": ".py",
   "mimetype": "text/x-python",
   "name": "python",
   "nbconvert_exporter": "python",
   "pygments_lexer": "ipython3",
   "version": "3.8.5"
  }
 },
 "nbformat": 4,
 "nbformat_minor": 5
}
